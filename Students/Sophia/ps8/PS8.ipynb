{
 "cells": [
  {
   "cell_type": "code",
   "execution_count": 114,
   "metadata": {},
   "outputs": [],
   "source": [
    "import numpy as np\n",
    "import scipy.optimize as opt\n",
    "import PS7 as demog\n",
    "import time\n",
    "import matplotlib.pyplot as plt\n",
    "import pandas as pd"
   ]
  },
  {
   "cell_type": "markdown",
   "metadata": {},
   "source": [
    "## Problem 1"
   ]
  },
  {
   "cell_type": "code",
   "execution_count": 115,
   "metadata": {
    "collapsed": true
   },
   "outputs": [],
   "source": [
    "# Household Parameters\n",
    "E = 20\n",
    "S = 80\n",
    "beta_annual = .96\n",
    "beta = beta_annual ** (80 / S)\n",
    "sigma = 2.2\n",
    "nvec = np.ones(S)\n",
    "cut = round(2 * S / 3)\n",
    "nvec[cut: ] = 0.2\n",
    "chi_vec_bq = np.ones(S)\n",
    "\n",
    "# Firm Parameters\n",
    "alpha = 0.35\n",
    "A = 1.0\n",
    "delta_annual = 0.05\n",
    "delta = 1- ((1 - delta_annual) ** (80 / S))\n",
    "\n",
    "# Economic Growth\n",
    "g_y = 0.03\n",
    "T = 300\n",
    "\n",
    "# Population\n",
    "pop_data = pd.read_table('pop_data.csv', sep=',', thousands=',')\n",
    "pop_now = np.array(pop_data['2013'][E:-1])\n",
    "fert_rate, mort_rate, inf_mort, imm_rates_orig, OMEGA_orig, omega_SS, g_n_SS = demog.get_dist_stable(E, S)\n",
    "omega_SS = omega_SS[E:]\n",
    "mort_rate = mort_rate[E:]\n",
    "g_n_path, omega_path_new, imm_rate = demog.get_dist_path(E, S, T)\n",
    "imm_SS = imm_rate[:,-1]\n",
    "\n",
    "# Define functions for calculating L, K, w, r, Y\n",
    "\n",
    "def get_L(nvec, omega_SS): # function for aggregate labor\n",
    "    L = (omega_SS * nvec).sum()\n",
    "    return L\n",
    "\n",
    "def get_K(bvec, omega_SS, g_n_SS, imm_SS):\n",
    "    K = (1 / (1 + g_n_SS)) * (omega_SS[:-1] * bvec + imm_SS[1:] * omega_SS[1:] * bvec).sum()\n",
    "    return K\n",
    "\n",
    "def get_BQ(bvec, r, g_n_SS, omega_SS, mort_rate):\n",
    "    BQ = ((1 + r) / (1 + g_n_SS)) * (mort_rate[:-1] * omega_SS[:-1] * bvec).sum()\n",
    "    return BQ\n",
    "\n",
    "def get_w(K, L, params): # function for wage\n",
    "    A, alpha = params\n",
    "    w = (1 - alpha) * A * ((K / L) ** alpha)\n",
    "    return w\n",
    "\n",
    "def get_r(K, L, params): # function for interest rate\n",
    "    A, alpha, delta = params\n",
    "    r = alpha * A * ((L / K) ** (1 - alpha)) - delta\n",
    "    return r\n",
    "\n",
    "def get_C(cvec, omega_SS):\n",
    "    C = (omega_SS * cvec).sum()\n",
    "    return C\n",
    "\n",
    "def get_I(K, K1, bvec, delta, g_n_SS, omega_SS, imm_SS, g_y):\n",
    "    I = (1 + g_n_SS) * np.exp(g_y) * (K1 - (imm_SS[1:] * omega_SS[1:] * bvec).sum()) - (1 - delta) * K\n",
    "    return I\n",
    "\n",
    "def get_Y(K, L, params): # function for output\n",
    "    A, alpha = params\n",
    "    Y = A * (K ** alpha) * (L ** (1 - alpha))\n",
    "    return Y"
   ]
  },
  {
   "cell_type": "code",
   "execution_count": 116,
   "metadata": {
    "collapsed": true
   },
   "outputs": [],
   "source": [
    "def errors(bvec, *args):\n",
    "\n",
    "    A, nvec, beta, sigma, alpha, A, delta, g_n_SS, omega_SS, imm_SS, mort_rate, g_y = args\n",
    "    L = get_L(nvec, omega_SS)\n",
    "    K = get_K(bvec, omega_SS, g_n_SS, imm_SS)\n",
    "    w = get_w(K, L, (A, alpha))\n",
    "    r = get_r(K, L, (A, alpha, delta))\n",
    "    \n",
    "    BQ = get_BQ(bvec, r, g_n_SS, omega_SS, mort_rate)\n",
    "    b = np.append(0, bvec)\n",
    "    b1 = np.append(bvec, 0)\n",
    "    cvec = (1 + r) * b + w * nvec + BQ - np.exp(g_y) * b1\n",
    "\n",
    "    muc = cvec ** (-sigma)\n",
    "    errors = muc[:-1] - (np.exp(-sigma * g_y) * (1 - mort_rate[:-1]) * beta * (1 + r) * muc[1:])\n",
    "    \n",
    "    return errors"
   ]
  },
  {
   "cell_type": "code",
   "execution_count": 117,
   "metadata": {},
   "outputs": [
    {
     "name": "stdout",
     "output_type": "stream",
     "text": [
      "\n",
      " Savings: \t\t\t [0.06, 0.11, 0.17, 0.23, 0.29, 0.34, 0.4, 0.46, 0.52, 0.58, 0.64, 0.7, 0.76, 0.83, 0.89, 0.95, 1.01, 1.08, 1.14, 1.21, 1.28, 1.34, 1.41, 1.48, 1.56, 1.63, 1.71, 1.78, 1.87, 1.95, 2.04, 2.13, 2.23, 2.33, 2.43, 2.55, 2.67, 2.8, 2.94, 3.09, 3.25, 3.42, 3.61, 3.81, 4.03, 4.28, 4.54, 4.83, 5.15, 5.5, 5.88, 6.31, 6.78, 6.57, 6.35, 6.11, 5.87, 5.61, 5.33, 5.05, 4.75, 4.45, 4.13, 3.81, 3.48, 3.15, 2.82, 2.49, 2.17, 1.85, 1.55, 1.27, 1.01, 0.77, 0.55, 0.37, 0.23, 0.12, 0.04] \n",
      " Capital and Labor: \t\t [ 1.88  0.66] \n",
      " Wage and Interest rate: \t [ 0.94  0.13] \n",
      " Consumption: \t\t\t [0.93, 0.93, 0.94, 0.94, 0.95, 0.95, 0.96, 0.96, 0.97, 0.97, 0.98, 0.98, 0.99, 0.99, 1.0, 1.01, 1.01, 1.02, 1.02, 1.03, 1.03, 1.04, 1.04, 1.05, 1.05, 1.06, 1.06, 1.07, 1.07, 1.08, 1.08, 1.09, 1.09, 1.1, 1.1, 1.1, 1.11, 1.11, 1.11, 1.12, 1.12, 1.12, 1.12, 1.12, 1.12, 1.13, 1.13, 1.13, 1.12, 1.12, 1.12, 1.12, 1.11, 1.11, 1.1, 1.09, 1.08, 1.07, 1.06, 1.05, 1.03, 1.01, 0.99, 0.97, 0.94, 0.91, 0.88, 0.85, 0.81, 0.77, 0.72, 0.68, 0.63, 0.58, 0.53, 0.47, 0.42, 0.37, 0.32, 0.28]\n",
      "Bequest:   0.0471151941372\n",
      "Euler errors:  [ -4.44089210e-16  -4.44089210e-16   6.66133815e-16   0.00000000e+00\n",
      "  -2.22044605e-16  -4.44089210e-16   0.00000000e+00  -2.22044605e-16\n",
      "   2.22044605e-16  -4.44089210e-16  -2.22044605e-16  -4.44089210e-16\n",
      "   2.22044605e-16   2.22044605e-16  -6.66133815e-16   2.22044605e-16\n",
      "   1.11022302e-16  -8.88178420e-16   1.11022302e-16   8.88178420e-16\n",
      "  -3.33066907e-16   1.11022302e-16  -3.33066907e-16  -1.11022302e-16\n",
      "  -2.22044605e-16  -2.22044605e-16  -1.11022302e-16   9.99200722e-16\n",
      "  -8.88178420e-16   9.99200722e-16  -9.99200722e-16  -1.11022302e-15\n",
      "   1.99840144e-15  -2.22044605e-16  -8.88178420e-16   6.66133815e-16\n",
      "  -1.11022302e-15   1.99840144e-15  -1.77635684e-15   8.88178420e-16\n",
      "   9.99200722e-16  -1.88737914e-15   3.33066907e-16   0.00000000e+00\n",
      "   5.55111512e-16  -1.55431223e-15   1.88737914e-15  -1.11022302e-15\n",
      "   7.77156117e-16   2.33146835e-15  -3.33066907e-15   1.99840144e-15\n",
      "  -7.77156117e-16  -2.55129251e-13   2.74447132e-13  -3.21520588e-13\n",
      "   2.70006240e-13   4.69624339e-14  -2.88657986e-15  -6.05071548e-14\n",
      "   1.16573418e-14   5.37347944e-14  -3.55271368e-15   4.88498131e-15\n",
      "   1.55431223e-14  -8.43769499e-15  -1.68753900e-14   2.22044605e-16\n",
      "   1.24344979e-14  -5.55111512e-15   2.22044605e-15  -1.50990331e-14\n",
      "  -3.10862447e-15   2.66453526e-15  -8.88178420e-16   3.55271368e-15\n",
      "  -1.77635684e-15   5.32907052e-15  -1.06581410e-14]\n",
      "Resource Constraint error:  0.0109585382577\n",
      "Time needed:  0.06275100000004841\n"
     ]
    },
    {
     "data": {
      "image/png": "[encoded data removed]",
      "text/plain": [
       "<matplotlib.figure.Figure at 0x111037fd0>"
      ]
     },
     "metadata": {},
     "output_type": "display_data"
    }
   ],
   "source": [
    "def get_SS(params, bvec_guess, SS_graphs = False):\n",
    "\n",
    "    start_time = time.clock()\n",
    "\n",
    "    A, nvec, beta, sigma, alpha, A, delta, g_n_SS, omega_SS, imm_SS, mort_rate, g_y = params\n",
    "\n",
    "    b = opt.root(errors, bvec_guess, args = (A, nvec, beta, sigma, alpha, A, delta, g_n_SS, omega_SS, imm_SS, mort_rate, g_y), tol = SS_tol)\n",
    "    if b.success:\n",
    "        b_ss = b.x\n",
    "    else:\n",
    "        raise ValueError(\"Failed to find b_ss\")\n",
    "\n",
    "    L_ss = get_L(nvec, omega_SS)\n",
    "    K_ss = get_K(b_ss, omega_SS, g_n_SS, imm_SS)\n",
    "    w_ss = get_w(K_ss, L_ss, (A, alpha))\n",
    "    r_ss = get_r(K_ss, L_ss, (A, alpha, delta))\n",
    "\n",
    "    BQ_ss = get_BQ(b_ss, r_ss, g_n_SS, omega_SS, mort_rate)\n",
    "    b = np.append(0, b_ss)\n",
    "    b1 = np.append(b_ss, 0)\n",
    "    c_ss = (1 + r_ss) * b + w_ss * nvec + BQ_ss - np.exp(g_y) * b1\n",
    "    \n",
    "    muc = c_ss ** (-sigma)\n",
    "    EulErr_ss = muc[:-1] - (np.exp(-sigma * g_y) * (1 - mort_rate[:-1]) * beta * (1 + r_ss) * muc[1:])\n",
    "    \n",
    "    Y_ss = get_Y(K_ss, L_ss, (A, alpha))\n",
    "    C_ss = get_C(c_ss, omega_SS)\n",
    "    I_ss = get_I(K_ss, K_ss, b_ss, delta, g_n_SS, omega_SS, imm_SS, g_y)\n",
    "    RCerr_ss = Y_ss - C_ss - I_ss\n",
    "\n",
    "    ss_time = time.clock() - start_time\n",
    "\n",
    "    ss_output = {\n",
    "        'b_ss': b_ss, 'c_ss': c_ss, 'w_ss': w_ss, 'r_ss': r_ss,\n",
    "        'K_ss': K_ss, 'Y_ss': Y_ss, 'C_ss': C_ss, 'BQ_ss': BQ_ss,\n",
    "        'EulErr_ss': EulErr_ss, 'RCerr_ss': RCerr_ss,\n",
    "        'ss_time': ss_time}\n",
    "\n",
    "    b = [float(i) for i in [\"%.2f\" % v for v in b_ss]]\n",
    "    L = float(\"{0:.2f}\".format(L_ss))\n",
    "    K = float(\"{0:.2f}\".format(K_ss))\n",
    "    w = float(\"{0:.2f}\".format(w_ss))\n",
    "    r = float(\"{0:.2f}\".format(r_ss))\n",
    "    c = [float(i) for i in [\"%.2f\" % v for v in c_ss]]\n",
    "\n",
    "    print('\\n Savings: \\t\\t\\t {} \\n Capital and Labor: \\t\\t {} \\n Wage and Interest rate: \\t {} \\n Consumption: \\t\\t\\t {}'.format(b, np.array([K, L]), np.array([w, r]), c))\n",
    "    print('Bequest:  ', BQ_ss)\n",
    "    print('Euler errors: ', EulErr_ss)\n",
    "    print('Resource Constraint error: ', RCerr_ss)\n",
    "    print('Time needed: ', ss_time)\n",
    "\n",
    "    if SS_graphs:\n",
    "        age = np.arange(E, E + S)\n",
    "        fig, ax = plt.subplots()\n",
    "        plt.plot(age, c_ss, marker='D',label='Consumption')\n",
    "        plt.plot(age, np.append([0], b_ss), marker = 'D', label='Savings')\n",
    "        plt.grid(b=True, which='major', color='0.65', linestyle='-')\n",
    "        plt.title('Steady-state consumption and savings')\n",
    "        plt.xlabel('Age')\n",
    "        plt.ylabel('Consumption units')\n",
    "        plt.legend()\n",
    "        plt.show()\n",
    "\n",
    "    return ss_output\n",
    "\n",
    "SS_tol = 1e-9\n",
    "\n",
    "params = (A, nvec, beta, sigma, alpha, A, delta, g_n_SS, omega_SS, imm_SS, mort_rate, g_y)\n",
    "bvec_guess = np.ones(79) * 0.1\n",
    "SS = get_SS(params, bvec_guess, SS_graphs = True)"
   ]
  },
  {
   "cell_type": "markdown",
   "metadata": {},
   "source": [
    "## Problem 2"
   ]
  },
  {
   "cell_type": "code",
   "execution_count": 118,
   "metadata": {},
   "outputs": [],
   "source": [
    "# TPI params\n",
    "max_iter = 300\n",
    "tol = 1e-9\n",
    "xi = 0.3\n",
    "b_ss = SS['b_ss']\n",
    "K_ss = SS['K_ss']\n",
    "w_ss = SS['w_ss']\n",
    "r_ss = SS['r_ss']\n",
    "BQ_ss = SS['BQ_ss']\n",
    "L_ss = get_L(nvec, omega_SS)\n",
    "\n",
    "# Initial guess for capital stock\n",
    "weights = ((1.5 - 0.87) / 78) * np.arange(S - 1) + 0.87\n",
    "b1vec = weights * b_ss\n",
    "K1 = get_K(b1vec, pop_now/pop_now.sum(), g_n_path[0], imm_rate[:,0])\n",
    "Kpath_old = np.zeros(T + S - 1)\n",
    "Kpath_old[:T] = np.linspace(K1, K_ss, T) # Until reaching steady state\n",
    "Kpath_old[T:] = K_ss\n",
    "r = get_r(Kpath_old, L_ss, (A, alpha, delta))\n",
    "BQ1 = get_BQ(b1vec, r[0], g_n_path[0], pop_now/pop_now.sum(), mort_rate)\n",
    "BQpath_old = np.zeros(T + S - 1)\n",
    "BQpath_old[:T] = np.linspace(BQ1, BQ_ss, T) # Until reaching steady state\n",
    "BQpath_old[T:] = BQ_ss"
   ]
  },
  {
   "cell_type": "code",
   "execution_count": 119,
   "metadata": {},
   "outputs": [],
   "source": [
    "def MU_c_stitch(cvec, sigma):\n",
    "    epsilon = 1e-4\n",
    "    muc = cvec ** (-sigma)\n",
    "    m1 = (-sigma) * epsilon ** (-sigma - 1)\n",
    "    m2 = epsilon ** (-sigma) - m1 * epsilon\n",
    "    c_cnstr = cvec < epsilon\n",
    "    muc[c_cnstr] = m1 * cvec[c_cnstr] + m2   \n",
    "    return muc\n",
    "\n",
    "def get_errors(bvec, *args):\n",
    "    \n",
    "    beg_wealth, nvec, beta, sigma, w_path, r_path, BQ_path, mort_rate, g_y = args\n",
    "    b1 = np.append(beg_wealth, bvec)\n",
    "    b2 = np.append(bvec, 0)\n",
    "    cvec = (1 + r_path) * b1 + w_path * nvec + BQ_path - np.exp(g_y) * b2\n",
    "    muc = MU_c_stitch(cvec, sigma)\n",
    "    errors = muc[:-1] - np.exp(-sigma * g_y) * beta * (1 + r_path[1:]) * (1 - mort_rate[:-1]) * muc[1:]\n",
    "    return errors"
   ]
  },
  {
   "cell_type": "code",
   "execution_count": 120,
   "metadata": {},
   "outputs": [
    {
     "name": "stdout",
     "output_type": "stream",
     "text": [
      "iteration: 1  squared distance:  1583484.46182\n",
      "iteration: 2  squared distance:  1555880.39387\n",
      "iteration: 3  squared distance:  384120.40949\n",
      "iteration: 4  squared distance:  296984.937631\n",
      "iteration: 5  squared distance:  99998.4024252\n",
      "iteration: 6  squared distance:  66422.6382996\n",
      "iteration: 7  squared distance:  25461.8066631\n",
      "iteration: 8  squared distance:  15503.35755\n",
      "iteration: 9  squared distance:  6273.62465091\n",
      "iteration: 10  squared distance:  3602.46798715\n",
      "iteration: 11  squared distance:  1476.82014339\n",
      "iteration: 12  squared distance:  804.461307809\n",
      "iteration: 13  squared distance:  323.26548235\n",
      "iteration: 14  squared distance:  166.210522214\n",
      "iteration: 15  squared distance:  63.7356597897\n",
      "iteration: 16  squared distance:  30.9612815863\n",
      "iteration: 17  squared distance:  11.159747492\n",
      "iteration: 18  squared distance:  5.18435967187\n",
      "iteration: 19  squared distance:  1.7455787183\n",
      "iteration: 20  squared distance:  0.790898647993\n",
      "iteration: 21  squared distance:  0.247937567827\n",
      "iteration: 22  squared distance:  0.112244118283\n",
      "iteration: 23  squared distance:  0.0326341569763\n",
      "iteration: 24  squared distance:  0.0151842791482\n",
      "iteration: 25  squared distance:  0.00407802623427\n",
      "iteration: 26  squared distance:  0.00201384850992\n",
      "iteration: 27  squared distance:  0.000500769349251\n",
      "iteration: 28  squared distance:  0.000270906468755\n",
      "iteration: 29  squared distance:  6.38598618947e-05\n",
      "iteration: 30  squared distance:  3.84563622931e-05\n",
      "iteration: 31  squared distance:  9.12946329937e-06\n",
      "iteration: 32  squared distance:  5.97830397296e-06\n",
      "iteration: 33  squared distance:  1.55263376335e-06\n",
      "iteration: 34  squared distance:  1.03729193953e-06\n",
      "iteration: 35  squared distance:  3.11002515847e-07\n",
      "iteration: 36  squared distance:  1.99325753566e-07\n",
      "iteration: 37  squared distance:  6.90021752098e-08\n",
      "iteration: 38  squared distance:  4.1358714352e-08\n",
      "iteration: 39  squared distance:  1.60339340968e-08\n",
      "iteration: 40  squared distance:  9.02034090502e-09\n",
      "iteration: 41  squared distance:  3.78445465088e-09\n",
      "iteration: 42  squared distance:  2.02698856997e-09\n",
      "iteration: 43  squared distance:  8.95898418435e-10\n"
     ]
    }
   ],
   "source": [
    "abs2 = 1\n",
    "tpi_iter = 0\n",
    "mort_rate_mat = np.tile(mort_rate.reshape(S, 1), (1, T + S - 1))\n",
    "while abs2 > tol and tpi_iter < max_iter:\n",
    "    Kpath_old[T:] = K_ss\n",
    "    BQpath_old[T:] = BQ_ss\n",
    "    tpi_iter = tpi_iter + 1\n",
    "    wpath = get_w(Kpath_old, L_ss, (A, alpha))\n",
    "    rpath = get_r(Kpath_old, L_ss, (A, alpha, delta))\n",
    "    # Initialize savings matrix\n",
    "    b = np.zeros((S - 1, T + S - 1))\n",
    "    b[:, 0] = b1vec\n",
    "\n",
    "    # Solve the incomplete remaining lifetime decisions of agents alive\n",
    "    # in period t=1 but not born in period t=1\n",
    "    for p in range(2, S):\n",
    "        bvec_guess = np.diagonal(b[S - p:, :p - 1]) # Initial guess of the lifetime savings path for individual with p periods to live\n",
    "        beg_wealth = b[S - p - 1, 0]\n",
    "        args_bp = (beg_wealth, nvec[-p:], beta, sigma, wpath[:p], rpath[:p], BQpath_old[:p], mort_rate[-p:], g_y)\n",
    "        bp = opt.root(get_errors, bvec_guess, args = (args_bp), method = 'lm').x\n",
    "    # Insert the vector lifetime solutions diagonally (twist donut)\n",
    "        DiagMaskbp = np.eye(p - 1)\n",
    "        bp_path = DiagMaskbp * bp\n",
    "        b[S - p:, 1:p] += bp_path\n",
    "\n",
    "    # Solve for complete lifetime decisions of agents born in periods\n",
    "    # 1 to T\n",
    "    for t in range(1, T + 1):\n",
    "        bvec_guess = np.diagonal(b[:, t - 1:S + t - 2])\n",
    "        args_bt = (0, nvec, beta, sigma, wpath[t - 1 : S + t - 1], rpath[t - 1 : S + t - 1], \\\n",
    "                  BQpath_old[t - 1:t + S - 1], mort_rate, g_y)\n",
    "        bt = opt.root(get_errors, bvec_guess, args = (args_bt)).x\n",
    "        DiagMaskbt = np.eye(S - 1)\n",
    "        bt_path = DiagMaskbt * bt\n",
    "        b[:, t: S + t - 1] += bt_path\n",
    "    # Calculate the implied capital stock from conjecture and the error\n",
    "    Kpath_new = (1 / (1 + g_n_path[1:])) * (omega_path_new[:-1, :-1] * b + imm_rate[1:, 1:] *\\\n",
    "                     omega_path_new[1:,:-1] * b).sum(axis=0)\n",
    "    Kpath_new[0] = K1\n",
    "    BQpath_new = ((1 + rpath) / (1 + g_n_path[1:])) * ((mort_rate_mat[:-1,:] * omega_path_new[:-1, :-1] * b).sum(axis=0))\n",
    "    BQpath_new[0] = BQ1\n",
    "    abs2 = (((Kpath_old[:T] - Kpath_new[:T])/ Kpath_old[:T] * 100) ** 2).sum()+\\\n",
    "           (((BQpath_old[:T] - BQpath_new[:T]) / BQpath_old[:T] * 100) ** 2).sum()\n",
    "    \n",
    "    # Update guess\n",
    "    Kpath_old = xi * Kpath_new + (1 - xi) * Kpath_old\n",
    "    BQpath_old = xi * BQpath_new + (1 - xi) * BQpath_old\n",
    "    print('iteration:', tpi_iter, ' squared distance: ', abs2)"
   ]
  },
  {
   "cell_type": "code",
   "execution_count": 125,
   "metadata": {},
   "outputs": [
    {
     "data": {
      "image/png": "[encoded data removed]",
      "text/plain": [
       "<matplotlib.figure.Figure at 0x10fd6aa20>"
      ]
     },
     "metadata": {},
     "output_type": "display_data"
    }
   ],
   "source": [
    "plt.plot(np.arange(200), Kpath_old[:200], 'go--')\n",
    "plt.grid(b=True, which='major', color='0.65', linestyle='-')\n",
    "plt.title('Time path of aggregate capital', fontsize=20)\n",
    "plt.xlabel(r'$t$')\n",
    "plt.ylabel(r'$K$')\n",
    "plt.show()"
   ]
  },
  {
   "cell_type": "code",
   "execution_count": 122,
   "metadata": {
    "scrolled": true
   },
   "outputs": [
    {
     "data": {
      "image/png": "[encoded data removed]",
      "text/plain": [
       "<matplotlib.figure.Figure at 0x102529828>"
      ]
     },
     "metadata": {},
     "output_type": "display_data"
    }
   ],
   "source": [
    "plt.plot(1 + np.arange(200), rpath[:200], 'go--')\n",
    "plt.grid(b=True, which='major', color='0.65', linestyle='-')\n",
    "plt.title('Time path of interest rate', fontsize=20)\n",
    "plt.xlabel(r'$t$')\n",
    "plt.ylabel(r'$r$')\n",
    "plt.show()"
   ]
  },
  {
   "cell_type": "code",
   "execution_count": 126,
   "metadata": {},
   "outputs": [
    {
     "data": {
      "image/png": "[encoded data removed]",
      "text/plain": [
       "<matplotlib.figure.Figure at 0x10ff44f28>"
      ]
     },
     "metadata": {},
     "output_type": "display_data"
    }
   ],
   "source": [
    "plt.plot(1 + np.arange(200), wpath[:200], 'go--')\n",
    "plt.grid(b=True, which='major', color='0.65', linestyle='-')\n",
    "plt.title('Time path of wage', fontsize=20)\n",
    "plt.xlabel(r'$t$')\n",
    "plt.ylabel(r'$w$')\n",
    "plt.show()"
   ]
  }
 ],
 "metadata": {
  "kernelspec": {
   "display_name": "Python 3",
   "language": "python",
   "name": "python3"
  },
  "language_info": {
   "codemirror_mode": {
    "name": "ipython",
    "version": 3
   },
   "file_extension": ".py",
   "mimetype": "text/x-python",
   "name": "python",
   "nbconvert_exporter": "python",
   "pygments_lexer": "ipython3",
   "version": "3.6.1"
  }
 },
 "nbformat": 4,
 "nbformat_minor": 2
}
