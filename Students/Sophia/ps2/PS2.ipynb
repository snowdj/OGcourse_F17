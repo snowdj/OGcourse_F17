{
 "cells": [
  {
   "cell_type": "code",
   "execution_count": 1,
   "metadata": {
    "collapsed": true
   },
   "outputs": [],
   "source": [
    "# import packages\n",
    "import scipy.optimize as opt\n",
    "import numpy as np\n",
    "import time\n",
    "import matplotlib.pyplot as plt\n",
    "from matplotlib.ticker import MultipleLocator\n",
    "import os"
   ]
  },
  {
   "cell_type": "code",
   "execution_count": 2,
   "metadata": {
    "collapsed": true
   },
   "outputs": [],
   "source": [
    "# Define parameters\n",
    "\n",
    "# Household Parameters\n",
    "nvec = np.array([1.0,1.0,0.2])\n",
    "yrs_live = 60\n",
    "s = 3\n",
    "beta = 0.442\n",
    "sigma = 3\n",
    "\n",
    "# Firm Parameters\n",
    "alpha = 0.35\n",
    "A = 1.0\n",
    "delta_annual = 0.05\n",
    "delta = 1- ((1 - delta_annual) ** (yrs_live/s))"
   ]
  },
  {
   "cell_type": "code",
   "execution_count": 3,
   "metadata": {
    "collapsed": true
   },
   "outputs": [],
   "source": [
    "# Define functions for calculating L, K, w, r\n",
    "\n",
    "def get_L(nvec): # function for aggregate labor\n",
    "    L = nvec.sum()\n",
    "    return L\n",
    "\n",
    "def get_K(bvec): # function for aggregate capital\n",
    "    K = bvec.sum()\n",
    "    return K\n",
    "\n",
    "def get_w(K, L, params): # function for wage\n",
    "    A, alpha = params\n",
    "    w = (1 - alpha) * A * ((K / L) ** alpha)\n",
    "    return w\n",
    "\n",
    "def get_r(K, L, params): #function for interest rate\n",
    "    A, alpha, delta = params\n",
    "    r = alpha * A * ((L / K) ** (1 - alpha)) - delta\n",
    "    return r\n",
    "\n",
    "def get_Y(K, L, params):\n",
    "    A, alpha = params\n",
    "    Y = A * (K ** alpha) * (L ** (1 - alpha))\n",
    "    return Y"
   ]
  },
  {
   "cell_type": "markdown",
   "metadata": {},
   "source": [
    "## Problem 1"
   ]
  },
  {
   "cell_type": "code",
   "execution_count": 4,
   "metadata": {
    "collapsed": true
   },
   "outputs": [],
   "source": [
    "# define function that checks feasibility\n",
    "\n",
    "def feasible(f_params, bvec_guess):\n",
    "    nvec, A, alpha, delta = f_params\n",
    "    \n",
    "    K = get_K(bvec_guess)\n",
    "    K_cnstr = K <= 0\n",
    "    L = get_L(nvec)\n",
    "    \n",
    "    if not K_cnstr:\n",
    "        w = get_w(K, L, (A, alpha))\n",
    "        r = get_r(K, L, (A, alpha, delta))\n",
    "        \n",
    "        b = np.append([0], bvec_guess)\n",
    "        b1 = np.append(bvec_guess, [0])\n",
    "        cvec = (1 + r) * b + w * nvec - b1\n",
    "        \n",
    "        c_cnstr = cvec <= 0\n",
    "        b_cnstr = c_cnstr[:-1] + c_cnstr[1:]\n",
    "        \n",
    "    else:\n",
    "        c_cnstr = np.ones(cvec.shape[0], dtype = bool)\n",
    "        b_cnstr = np.ones(cvec.shape[0] - 1, dtype = bool)\n",
    "        \n",
    "    return b_cnstr, c_cnstr, K_cnstr"
   ]
  },
  {
   "cell_type": "code",
   "execution_count": 5,
   "metadata": {},
   "outputs": [
    {
     "name": "stdout",
     "output_type": "stream",
     "text": [
      "(array([ True, False], dtype=bool), array([ True, False, False], dtype=bool), False)\n",
      "(array([False, False], dtype=bool), array([False, False, False], dtype=bool), False)\n",
      "(array([False, False], dtype=bool), array([False, False, False], dtype=bool), False)\n"
     ]
    }
   ],
   "source": [
    "f_params = (nvec, A, alpha, delta)\n",
    "bvec_guess1 = np.array([1.0, 1.2])\n",
    "bvec_guess2 = np.array([0.06, -0.001])\n",
    "bvec_guess3 = np.array([0.1, 0.1])\n",
    "\n",
    "print(feasible(f_params, bvec_guess1))\n",
    "print(feasible(f_params, bvec_guess2))\n",
    "print(feasible(f_params, bvec_guess3))"
   ]
  },
  {
   "cell_type": "markdown",
   "metadata": {},
   "source": [
    "# 1(a)\n",
    "The constraints for first period consumptions are violated. As a result, saving in the first period is likely to cause the violation in nonnegativity of consumptios.\n",
    "# 1(b)\n",
    "None of the constraints is violated.\n",
    "# 1(c)\n",
    "None of the constraints is violated."
   ]
  },
  {
   "cell_type": "markdown",
   "metadata": {},
   "source": [
    "## Problem 2"
   ]
  },
  {
   "cell_type": "code",
   "execution_count": 6,
   "metadata": {
    "collapsed": true
   },
   "outputs": [],
   "source": [
    "def errors(bvec, *args):\n",
    "    \n",
    "    A, alpha, delta, nvec, beta, sigma = args\n",
    "    L = get_L(nvec)\n",
    "    K = get_K(bvec)\n",
    "    w = get_w(K, L, (A, alpha))\n",
    "    r = get_r(K, L, (A, alpha, delta))\n",
    "    \n",
    "    b = np.append([0], bvec)\n",
    "    b1 = np.append(bvec, [0])\n",
    "    cvec = (1 + r) * b + w * nvec - b1\n",
    "    \n",
    "    muc = cvec ** (-sigma)\n",
    "    \n",
    "    EulErr_ss = muc[:-1] - beta * (1 + r) * muc[1:]\n",
    "    \n",
    "    return EulErr_ss"
   ]
  },
  {
   "cell_type": "code",
   "execution_count": 7,
   "metadata": {
    "collapsed": true
   },
   "outputs": [],
   "source": [
    "def get_SS(params, bvec_guess, SS_graphs = False):\n",
    "    \n",
    "    start_time = time.clock()\n",
    "    \n",
    "    beta, sigma, nvec, L, A, alpha, delta, SS_tol = params\n",
    "    \n",
    "    b = opt.root(errors, bvec_guess, args = (A, alpha, delta, nvec, beta, sigma), tol = SS_tol)\n",
    "    if b.success:\n",
    "        b_ss = b.x\n",
    "        \n",
    "    K_ss = get_K(b_ss)\n",
    "    w_ss = get_w(K_ss, L, (A, alpha))\n",
    "    r_ss = get_r(K_ss, L, (A, alpha, delta))\n",
    "    Y_ss = get_Y(K_ss, L, (A, alpha))\n",
    "    \n",
    "    b = np.append([0], b_ss)\n",
    "    b1 = np.append(b_ss, [0])\n",
    "    c_ss = (1 + r_ss) * b + w_ss * nvec - b1\n",
    "    C_ss = c_ss.sum()\n",
    "    \n",
    "    muc = c_ss ** (-sigma)\n",
    "    EulErr_ss = muc[:-1] - beta * (1 + r_ss) * muc[1:]\n",
    "    \n",
    "    RCerr_ss = Y_ss - C_ss - delta * K_ss\n",
    "    \n",
    "    ss_time = time.clock() - start_time\n",
    "\n",
    "    ss_output = {\n",
    "        'b_ss': b_ss, 'c_ss': c_ss, 'w_ss': w_ss, 'r_ss': r_ss,\n",
    "        'K_ss': K_ss, 'Y_ss': Y_ss, 'C_ss': C_ss,\n",
    "        'EulErr_ss': EulErr_ss, 'RCerr_ss': RCerr_ss,\n",
    "        'ss_time': ss_time}\n",
    "    \n",
    "    print('\\n Savings: \\t\\t\\t {} \\n Capital and Labor: \\t\\t {} \\n Wage and Interest rate: \\t {} \\n Consumption: \\t\\t\\t {}'.format(b_ss, np.array([K_ss, L]), np.array([w_ss, r_ss]), c_ss))\n",
    "    \n",
    "    print('Euler errors: ', EulErr_ss)\n",
    "    print('Resource Constraint error: ', RCerr_ss)\n",
    "    print('Time needed: ', ss_time)\n",
    "    \n",
    "    if SS_graphs:\n",
    "        \n",
    "        age = np.arange(1, 4)\n",
    "        fig, ax = plt.subplots()\n",
    "        plt.plot(age, c_ss, marker='D',label='Consumption')\n",
    "        plt.plot(age, np.append([0], b_ss), marker = 'D', label='Savings')\n",
    "        \n",
    "        minorLocator = MultipleLocator(1)\n",
    "        ax.xaxis.set_minor_locator(minorLocator)\n",
    "        plt.grid(b=True, which='major', color='0.65', linestyle='-')\n",
    "        plt.title('Steady-state consumption and savings')\n",
    "        plt.xlabel('Age')\n",
    "        plt.ylabel('Consumption units')\n",
    "        plt.legend()\n",
    "        plt.show()\n",
    "        \n",
    "    return ss_output"
   ]
  },
  {
   "cell_type": "markdown",
   "metadata": {},
   "source": [
    "# 2(a) & (b)"
   ]
  },
  {
   "cell_type": "code",
   "execution_count": 8,
   "metadata": {},
   "outputs": [
    {
     "name": "stdout",
     "output_type": "stream",
     "text": [
      "\n",
      " Savings: \t\t\t [ 0.01931255  0.05841117] \n",
      " Capital and Labor: \t\t [ 0.07772372  2.2       ] \n",
      " Wage and Interest rate: \t [ 0.20172474  2.43304586] \n",
      " Consumption: \t\t\t [ 0.1824122   0.20961442  0.24087319]\n",
      "Euler errors:  [ -1.36424205e-12   2.58637556e-12]\n",
      "Resource Constraint error:  8.32667268469e-17\n",
      "Time needed:  0.002770999999999857\n"
     ]
    },
    {
     "data": {
      "image/png": "[encoded data removed]",
      "text/plain": [
       "<matplotlib.figure.Figure at 0x1166cc470>"
      ]
     },
     "metadata": {},
     "output_type": "display_data"
    }
   ],
   "source": [
    "L = get_L(nvec)\n",
    "SS_tol = 1e-9\n",
    "\n",
    "params = (beta, sigma, nvec, L, A, alpha, delta, SS_tol)\n",
    "bvec_guess = bvec_guess3\n",
    "SS = get_SS(params, bvec_guess, SS_graphs = True)"
   ]
  },
  {
   "cell_type": "markdown",
   "metadata": {},
   "source": [
    "# 2(c)\n",
    "As we see in the cell below, when all households are more patient, $\\bar{b}_2, \\bar{b}_3$ both increase since consumption in future periods are more valuable for the households than before, resulting in their saving more today to further smooth consumption across periods.  \n",
    "  \n",
    "$\\bar{K}$ increases because by market clearing, it is equal to the sum of $\\bar{b}_2$ and $\\bar{b}_3$; $\\bar{L}$ remains unchanged because it is an exogenous variable.  \n",
    "\n",
    "$\\bar{w}$ increases and $\\bar{r}$ decreases because $\\frac{K}{L}$ increases. From firms' first order conditions, we know wage increases when capital-labor ratio increases, and interest rate decreases when capital labor ratio decrease (firms always optimize their capital-labor ratio according to prices).  \n",
    "\n",
    "$\\bar{c}_1, \\bar{c}_2, \\bar{c}_3$ all increase because income effect dominates intertemporal substitution effect--the increase in wage is much larger than the increase in households' savings for both periods."
   ]
  },
  {
   "cell_type": "code",
   "execution_count": 9,
   "metadata": {},
   "outputs": [
    {
     "name": "stdout",
     "output_type": "stream",
     "text": [
      "\n",
      " Savings: \t\t\t [ 0.02817696  0.07686557] \n",
      " Capital and Labor: \t\t [ 0.10504253  2.2       ] \n",
      " Wage and Interest rate: \t [ 0.22415231  1.88636   ] \n",
      " Consumption: \t\t\t [ 0.19597535  0.22861559  0.26669216]\n",
      "Euler errors:  [ -2.84217094e-14  -2.84217094e-14]\n",
      "Resource Constraint error:  9.71445146547e-17\n",
      "Time needed:  0.002136000000000138\n"
     ]
    },
    {
     "data": {
      "image/png": "[encoded data removed]",
      "text/plain": [
       "<matplotlib.figure.Figure at 0x119b62f60>"
      ]
     },
     "metadata": {},
     "output_type": "display_data"
    }
   ],
   "source": [
    "params_1 = (0.55, sigma, nvec, L, A, alpha, delta, SS_tol)\n",
    "SS_new = get_SS(params_1, bvec_guess, SS_graphs = True)"
   ]
  },
  {
   "cell_type": "markdown",
   "metadata": {},
   "source": [
    "## Problem 3"
   ]
  },
  {
   "cell_type": "code",
   "execution_count": 10,
   "metadata": {
    "collapsed": true
   },
   "outputs": [],
   "source": [
    "# TPI params\n",
    "T = 30\n",
    "max_iter = 300\n",
    "TPI_tol = 1e-9\n",
    "xi = 0.2\n",
    "\n",
    "b_ss = SS['b_ss']\n",
    "K_ss = SS['K_ss']\n",
    "w_ss = SS['w_ss']\n",
    "r_ss = SS['r_ss']\n",
    "\n",
    "# Initial guess for capital stock\n",
    "b1vec = np.array([0.8 * b_ss[0], 1.1 * b_ss[1]])\n",
    "K1 = get_K(b1vec)\n",
    "Kpath_old = np.zeros(T + 1)\n",
    "Kpath_old[:-1] = np.linspace(K1, K_ss, T)\n",
    "Kpath_old[-1] = K_ss"
   ]
  },
  {
   "cell_type": "code",
   "execution_count": 11,
   "metadata": {
    "collapsed": true
   },
   "outputs": [],
   "source": [
    "# Euler function error for the individual who is already born in period 1\n",
    "def get_error(b3, *args):\n",
    "    \n",
    "    nvec, beta, sigma, b2, w_path, r_path = args\n",
    "    n2, n3 = nvec\n",
    "    w1, w2 = w_path\n",
    "    r1, r2 = r_path\n",
    "    c2 = (1 + r1) * b2 + w1 * n2 - b3\n",
    "    c3 = (1 + r2) * b3 + w2 * n3\n",
    "    muc2 = c2 ** (-sigma)\n",
    "    muc3 = c3 ** (-sigma)\n",
    "    error = muc2 - beta * (1 + r2) * muc3\n",
    "    \n",
    "    return error\n",
    "\n",
    "# Euler function errors for other individuals\n",
    "def get_errors(bvec, *args):\n",
    "    \n",
    "    nvec, beta, sigma, w_path, r_path = args\n",
    "    b = np.append([0], bvec)\n",
    "    b1 = np.append(bvec, [0])\n",
    "    cvec = (1 + np.append([0], r_path)) * b + w_path * nvec - b1\n",
    "    \n",
    "    muc = cvec ** (-sigma)\n",
    "    errors = muc[:-1] - beta * (1 + r_path) * muc[1:]\n",
    "    \n",
    "    return errors"
   ]
  },
  {
   "cell_type": "code",
   "execution_count": 12,
   "metadata": {},
   "outputs": [
    {
     "name": "stdout",
     "output_type": "stream",
     "text": [
      "iteration: 1  squared distance:  0.000401499739002\n",
      "iteration: 2  squared distance:  0.000282697186267\n",
      "iteration: 3  squared distance:  0.000200269182054\n",
      "iteration: 4  squared distance:  0.000142659554267\n",
      "iteration: 5  squared distance:  0.000102125095821\n",
      "iteration: 6  squared distance:  7.34304922882e-05\n",
      "iteration: 7  squared distance:  5.30052886235e-05\n",
      "iteration: 8  squared distance:  3.83943542995e-05\n",
      "iteration: 9  squared distance:  2.78963861813e-05\n",
      "iteration: 10  squared distance:  2.03239423664e-05\n",
      "iteration: 11  squared distance:  1.48427205132e-05\n",
      "iteration: 12  squared distance:  1.08629706744e-05\n",
      "iteration: 13  squared distance:  7.96551219146e-06\n",
      "iteration: 14  squared distance:  5.8509209938e-06\n",
      "iteration: 15  squared distance:  4.3043647816e-06\n",
      "iteration: 16  squared distance:  3.1710937589e-06\n",
      "iteration: 17  squared distance:  2.33924518326e-06\n",
      "iteration: 18  squared distance:  1.7277059591e-06\n",
      "iteration: 19  squared distance:  1.27749806582e-06\n",
      "iteration: 20  squared distance:  9.45633757408e-07\n",
      "iteration: 21  squared distance:  7.00712777155e-07\n",
      "iteration: 22  squared distance:  5.19755089039e-07\n",
      "iteration: 23  squared distance:  3.85914295223e-07\n",
      "iteration: 24  squared distance:  2.86821649194e-07\n",
      "iteration: 25  squared distance:  2.13383407511e-07\n",
      "iteration: 26  squared distance:  1.58905313412e-07\n",
      "iteration: 27  squared distance:  1.18453736292e-07\n",
      "iteration: 28  squared distance:  8.83887410516e-08\n",
      "iteration: 29  squared distance:  6.60221393952e-08\n",
      "iteration: 30  squared distance:  4.9366727311e-08\n",
      "iteration: 31  squared distance:  3.69521313462e-08\n",
      "iteration: 32  squared distance:  2.76894172455e-08\n",
      "iteration: 33  squared distance:  2.07714214584e-08\n",
      "iteration: 34  squared distance:  1.5599315697e-08\n",
      "iteration: 35  squared distance:  1.17284435148e-08\n",
      "iteration: 36  squared distance:  8.82833562767e-09\n",
      "iteration: 37  squared distance:  6.65316669205e-09\n",
      "iteration: 38  squared distance:  5.01990858042e-09\n",
      "iteration: 39  squared distance:  3.79216184065e-09\n",
      "iteration: 40  squared distance:  2.8681798265e-09\n",
      "iteration: 41  squared distance:  2.17199113278e-09\n",
      "iteration: 42  squared distance:  1.64681342409e-09\n",
      "iteration: 43  squared distance:  1.25016321344e-09\n",
      "iteration: 44  squared distance:  9.50221849719e-10\n"
     ]
    }
   ],
   "source": [
    "abs2 = 1\n",
    "tpi_iter = 0\n",
    "L = get_L(nvec)\n",
    "\n",
    "while abs2 > TPI_tol and tpi_iter < max_iter:\n",
    "    tpi_iter = tpi_iter + 1\n",
    "    w_path = get_w(Kpath_old, L, (A, alpha))\n",
    "    r_path = get_r(Kpath_old, L, (A, alpha, delta))\n",
    "    # Initialize savings matrix\n",
    "    b = np.zeros((2, T + 1))\n",
    "    b[:, 0] = b1vec\n",
    "    # solve for b32\n",
    "    b32 = opt.root(get_error, b[1, 0], args=(nvec[1:], beta, sigma, b[0, 0], w_path[:2], r_path[:2]))\n",
    "    b[1, 1] = b32.x\n",
    "    \n",
    "    for t in range(T - 1):\n",
    "        bvec_guess = np.array([b[0, t], b[1, t + 1]])\n",
    "        bt = opt.root(get_errors, bvec_guess, (nvec, beta, sigma, w_path[t : t + 3], r_path[t + 1: t + 3]))\n",
    "        b[0, t + 1] = bt.x[0]\n",
    "        b[1, t + 2] = bt.x[1]\n",
    "    # Calculate the implied capital stock from conjecture and the error\n",
    "    Kpath_new = b.sum(axis = 0)\n",
    "    abs2 = ((Kpath_old[:] - Kpath_new[:]) ** 2).sum()\n",
    "    # Update guess\n",
    "    Kpath_old = xi * Kpath_new + (1 - xi) * Kpath_old\n",
    "    print('iteration:', tpi_iter, ' squared distance: ', abs2)"
   ]
  },
  {
   "cell_type": "markdown",
   "metadata": {},
   "source": [
    "# 3(a)"
   ]
  },
  {
   "cell_type": "code",
   "execution_count": 13,
   "metadata": {},
   "outputs": [
    {
     "data": {
      "image/png": "[encoded data removed]",
      "text/plain": [
       "<matplotlib.figure.Figure at 0x119cf9908>"
      ]
     },
     "metadata": {},
     "output_type": "display_data"
    },
    {
     "data": {
      "image/png": "[encoded data removed]",
      "text/plain": [
       "<matplotlib.figure.Figure at 0x119a2d780>"
      ]
     },
     "metadata": {},
     "output_type": "display_data"
    },
    {
     "data": {
      "image/png": "[encoded data removed]",
      "text/plain": [
       "<matplotlib.figure.Figure at 0x119d82cf8>"
      ]
     },
     "metadata": {},
     "output_type": "display_data"
    }
   ],
   "source": [
    "plt.plot(1 + np.arange(T + 5), np.append(Kpath_old[:T-2], K_ss * np.ones(7)), 'go--')\n",
    "plt.grid(b=True, which='major', color='0.65', linestyle='-')\n",
    "plt.title('Time path of aggregate capital', fontsize=20)\n",
    "plt.xlabel(r'$t$')\n",
    "plt.ylabel(r'$K$')\n",
    "plt.show()\n",
    "\n",
    "w_path = get_w(Kpath_old, L, (A, alpha))\n",
    "r_path = get_r(Kpath_old, L, (A, alpha, delta))\n",
    "\n",
    "plt.plot(1 + np.arange(T + 5), np.append(w_path[:T-2], w_ss * np.ones(7)), 'go--')\n",
    "plt.grid(b=True, which='major', color='0.65', linestyle='-')\n",
    "plt.title('Time path of wage', fontsize=20)\n",
    "plt.xlabel(r'$t$')\n",
    "plt.ylabel(r'$w$')\n",
    "plt.show()\n",
    "\n",
    "plt.plot(1 + np.arange(T + 5), np.append(r_path[:T-2], r_ss * np.ones(7)), 'go--')\n",
    "plt.grid(b=True, which='major', color='0.65', linestyle='-')\n",
    "plt.title('Time path of interest rate', fontsize=20)\n",
    "plt.xlabel(r'$t$')\n",
    "plt.ylabel(r'$r$')\n",
    "plt.show()"
   ]
  },
  {
   "cell_type": "code",
   "execution_count": 14,
   "metadata": {},
   "outputs": [
    {
     "name": "stdout",
     "output_type": "stream",
     "text": [
      "0.0777309790492\n",
      "3\n",
      "0.0777093470076\n",
      "9\n"
     ]
    }
   ],
   "source": [
    "k_first = [k for k in Kpath_old if abs(k - K_ss) < 0.00001][0]\n",
    "print(k_first)\n",
    "T1 = np.where(Kpath_old == k_first)[0][0]\n",
    "print(T1+1)\n",
    "\n",
    "k_last = [k for k in Kpath_old[:-3] if abs(k- K_ss) > 0.00001][-1]\n",
    "print(k_last)\n",
    "T2 = np.where(Kpath_old == k_last)[0][0]\n",
    "print(T2+1)"
   ]
  },
  {
   "cell_type": "markdown",
   "metadata": {
    "collapsed": true
   },
   "source": [
    "In period 3, the economy first gets to within 0.00001 of the steady state. After period 9, the economy is never again father than 0.00001 away from the steady state."
   ]
  }
 ],
 "metadata": {
  "kernelspec": {
   "display_name": "Python 3",
   "language": "python",
   "name": "python3"
  },
  "language_info": {
   "codemirror_mode": {
    "name": "ipython",
    "version": 3
   },
   "file_extension": ".py",
   "mimetype": "text/x-python",
   "name": "python",
   "nbconvert_exporter": "python",
   "pygments_lexer": "ipython3",
   "version": "3.6.1"
  }
 },
 "nbformat": 4,
 "nbformat_minor": 2
}
